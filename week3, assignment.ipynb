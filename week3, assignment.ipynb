{
 "cells": [
  {
   "cell_type": "markdown",
   "id": "8e1c2371-845d-4be8-92a7-4cbdad4df7f2",
   "metadata": {},
   "source": [
    "Q1. Create a python program to sort the given list of tuples based on integer value using a \n",
    "lambda function. \n",
    "\n",
    "\n",
    "[('Sachin Tendulkar', 34357), ('Ricky Ponting', 27483), ('Jack Kallis', 25534), ('Virat Kohli', 24936)]"
   ]
  },
  {
   "cell_type": "code",
   "execution_count": 19,
   "id": "28e0f0fd-adf6-4635-b758-03136a418537",
   "metadata": {},
   "outputs": [],
   "source": [
    "list_of_tuples=[('Sachin Tendulkar', 34357), ('Ricky Ponting', 27483), ('Jack Kallis', 25534), ('Virat Kohli', 24936)]"
   ]
  },
  {
   "cell_type": "code",
   "execution_count": 20,
   "id": "9bea3562-0df0-46da-844f-bd1ee7bfbcbb",
   "metadata": {},
   "outputs": [],
   "source": [
    "s1_sorting=sorted(list_of_tuples,key=lambda x : x[1])"
   ]
  },
  {
   "cell_type": "code",
   "execution_count": 21,
   "id": "e8f11147-14bc-4368-baf1-eb1f0cd21677",
   "metadata": {},
   "outputs": [
    {
     "data": {
      "text/plain": [
       "[('Virat Kohli', 24936),\n",
       " ('Jack Kallis', 25534),\n",
       " ('Ricky Ponting', 27483),\n",
       " ('Sachin Tendulkar', 34357)]"
      ]
     },
     "execution_count": 21,
     "metadata": {},
     "output_type": "execute_result"
    }
   ],
   "source": [
    "s1_sorting"
   ]
  },
  {
   "cell_type": "code",
   "execution_count": 23,
   "id": "9fd2352d-61d9-4b66-a55d-0f99b0b317cd",
   "metadata": {},
   "outputs": [
    {
     "name": "stdout",
     "output_type": "stream",
     "text": [
      "('Virat Kohli', 24936)\n",
      "('Jack Kallis', 25534)\n",
      "('Ricky Ponting', 27483)\n",
      "('Sachin Tendulkar', 34357)\n"
     ]
    }
   ],
   "source": [
    "for i in s1_sorting :\n",
    "    print(i)"
   ]
  },
  {
   "cell_type": "code",
   "execution_count": null,
   "id": "735ee3c8-a335-45d4-a5d3-d7d2fb834988",
   "metadata": {},
   "outputs": [],
   "source": []
  },
  {
   "cell_type": "code",
   "execution_count": null,
   "id": "ef416b5c-9f8f-4ee8-b82d-71607bea4906",
   "metadata": {},
   "outputs": [],
   "source": []
  },
  {
   "cell_type": "markdown",
   "id": "7a07899e-6a34-46f2-aaba-210eed58c73a",
   "metadata": {},
   "source": [
    "Q2. Write a Python Program to find the squares of all the numbers in the given list of integers using \n",
    "lambda and map functions.\n",
    "\n",
    "\n",
    "[1, 2, 3, 4, 5, 6, 7, 8, 9, 10]"
   ]
  },
  {
   "cell_type": "markdown",
   "id": "b27fdf95-80c1-4e9b-b4d6-b1397a39d6d8",
   "metadata": {},
   "source": [
    "ANS:-let's first take the list given in the question , and then perform operation as per requirements"
   ]
  },
  {
   "cell_type": "code",
   "execution_count": 24,
   "id": "60e3992d-c820-4291-8da8-2a3a87d8e6dd",
   "metadata": {},
   "outputs": [],
   "source": [
    "l=[1,2,3,4,5,6,7,8,9,10]"
   ]
  },
  {
   "cell_type": "code",
   "execution_count": 28,
   "id": "18c9c319-5fcb-4598-a227-402dc8d58958",
   "metadata": {},
   "outputs": [],
   "source": [
    "m=map(lambda x : x*x,l)"
   ]
  },
  {
   "cell_type": "code",
   "execution_count": 29,
   "id": "b575a76e-ebba-4953-b417-c22910361dc3",
   "metadata": {},
   "outputs": [
    {
     "data": {
      "text/plain": [
       "<map at 0x7f53704d1a80>"
      ]
     },
     "execution_count": 29,
     "metadata": {},
     "output_type": "execute_result"
    }
   ],
   "source": [
    "m"
   ]
  },
  {
   "cell_type": "code",
   "execution_count": 30,
   "id": "0c72c126-1db2-479e-92b0-8ccfb5018a26",
   "metadata": {},
   "outputs": [
    {
     "name": "stdout",
     "output_type": "stream",
     "text": [
      "1\n",
      "4\n",
      "9\n",
      "16\n",
      "25\n",
      "36\n",
      "49\n",
      "64\n",
      "81\n",
      "100\n"
     ]
    }
   ],
   "source": [
    "for i in m :\n",
    "    print(i)"
   ]
  },
  {
   "cell_type": "markdown",
   "id": "9556bbbe-10a6-4ba9-80dd-09079339b202",
   "metadata": {},
   "source": [
    "let's get the list of square of the data of the given list"
   ]
  },
  {
   "cell_type": "code",
   "execution_count": 31,
   "id": "11e8c6e3-3267-41e5-9a99-38f3e5e2bcc3",
   "metadata": {},
   "outputs": [],
   "source": [
    "m1=m=list(map(lambda x : x*x,l))"
   ]
  },
  {
   "cell_type": "code",
   "execution_count": 32,
   "id": "9bd743e5-1ee5-49db-a609-c25e7cbb0af0",
   "metadata": {},
   "outputs": [
    {
     "data": {
      "text/plain": [
       "[1, 4, 9, 16, 25, 36, 49, 64, 81, 100]"
      ]
     },
     "execution_count": 32,
     "metadata": {},
     "output_type": "execute_result"
    }
   ],
   "source": [
    "m1"
   ]
  },
  {
   "cell_type": "code",
   "execution_count": null,
   "id": "09142b2b-b2c2-4857-af0b-558e3a583e70",
   "metadata": {},
   "outputs": [],
   "source": []
  },
  {
   "cell_type": "code",
   "execution_count": null,
   "id": "6b7cbdb9-5084-436e-84e9-0f4170f11d74",
   "metadata": {},
   "outputs": [],
   "source": []
  },
  {
   "cell_type": "code",
   "execution_count": null,
   "id": "470ce79c-96ba-43d3-94cf-2ab069a3d50c",
   "metadata": {},
   "outputs": [],
   "source": []
  },
  {
   "cell_type": "markdown",
   "id": "cce88944-03bc-4a71-acf8-f4be09d9778c",
   "metadata": {},
   "source": [
    "Q3. Write a python program to convert the given list of integers into a tuple of strings. Use map and \n",
    "lambda functions\n",
    "\n",
    "\n",
    "Given String: [1, 2, 3, 4, 5, 6, 7, 8, 9, 10]\n",
    "\n",
    "Expected output: ('1', '2', '3', '4', '5', '6', '7', '8', '9', '10')"
   ]
  },
  {
   "cell_type": "markdown",
   "id": "3c23c833-96fe-406f-acaa-d4f96c01e222",
   "metadata": {},
   "source": [
    "ANS:- Let's take the given the list and then apply code to get expected result"
   ]
  },
  {
   "cell_type": "code",
   "execution_count": 33,
   "id": "0ac4ddce-57d4-4006-b226-b75882c60df3",
   "metadata": {},
   "outputs": [],
   "source": [
    "l2=[1,2,3,4,5,6,7,8,9,10]"
   ]
  },
  {
   "cell_type": "code",
   "execution_count": 35,
   "id": "5ef10748-6413-4aaf-bf02-0c3b47f93cec",
   "metadata": {},
   "outputs": [],
   "source": [
    "m2=tuple(map(lambda a : str(a),l2))"
   ]
  },
  {
   "cell_type": "code",
   "execution_count": 36,
   "id": "d3886f99-9a8c-44ce-b6d3-1213f3c6708c",
   "metadata": {},
   "outputs": [
    {
     "data": {
      "text/plain": [
       "('1', '2', '3', '4', '5', '6', '7', '8', '9', '10')"
      ]
     },
     "execution_count": 36,
     "metadata": {},
     "output_type": "execute_result"
    }
   ],
   "source": [
    "m2"
   ]
  },
  {
   "cell_type": "markdown",
   "id": "b8d9c9f0-ad8f-4649-9397-98dcb1bfa58b",
   "metadata": {},
   "source": [
    "so we got the expected result by applying and executing required code"
   ]
  },
  {
   "cell_type": "code",
   "execution_count": null,
   "id": "8632259f-c038-42ea-8acf-a024a7289008",
   "metadata": {},
   "outputs": [],
   "source": []
  },
  {
   "cell_type": "code",
   "execution_count": null,
   "id": "92461359-8a60-4e67-857d-bd0c579ebca5",
   "metadata": {},
   "outputs": [],
   "source": []
  },
  {
   "cell_type": "code",
   "execution_count": null,
   "id": "ee943969-6cad-4f43-8c42-b8ca2c29c90c",
   "metadata": {},
   "outputs": [],
   "source": []
  },
  {
   "cell_type": "markdown",
   "id": "4583d2a9-e8ee-4973-aa7a-a78d35c4316f",
   "metadata": {},
   "source": [
    "Q4.  Write a python program using reduce function to compute the product of a list containing numbers \n",
    "from 1 to 25."
   ]
  },
  {
   "cell_type": "markdown",
   "id": "79884d5f-0794-45ea-bd90-3b9f71344c4f",
   "metadata": {},
   "source": [
    "ANS:- Let's first make a list containg number or integer from 1 to 25 and then use reduce function to reduce the list"
   ]
  },
  {
   "cell_type": "code",
   "execution_count": 44,
   "id": "d2f6a089-881b-4ba9-9cee-500c089af9ef",
   "metadata": {},
   "outputs": [],
   "source": [
    "list_1_to_25=[1,2,3,4,5,6,7,8,9,10,11,12,13,14,15,16,17,18,19,20,21,22,23,24,25]"
   ]
  },
  {
   "cell_type": "code",
   "execution_count": 46,
   "id": "e35cfc37-61a6-4e7c-8708-423d23e26291",
   "metadata": {},
   "outputs": [],
   "source": [
    "from functools import reduce"
   ]
  },
  {
   "cell_type": "code",
   "execution_count": 48,
   "id": "cf126f11-fc09-4ac2-8501-ce839291c7d5",
   "metadata": {},
   "outputs": [],
   "source": [
    "r1=reduce(lambda x,y:x*y,list_1_to_25 )"
   ]
  },
  {
   "cell_type": "code",
   "execution_count": 49,
   "id": "61363644-6df5-467f-88fc-cbafdf4a875a",
   "metadata": {},
   "outputs": [
    {
     "data": {
      "text/plain": [
       "15511210043330985984000000"
      ]
     },
     "execution_count": 49,
     "metadata": {},
     "output_type": "execute_result"
    }
   ],
   "source": [
    "r1"
   ]
  },
  {
   "cell_type": "markdown",
   "id": "749a548e-e195-4c74-9b41-cd1fae77f28b",
   "metadata": {},
   "source": [
    "hence, we have reduced the list_1_to_25 to r1\n",
    "where r1=15511210043330985984000000"
   ]
  },
  {
   "cell_type": "code",
   "execution_count": null,
   "id": "f436296b-cc75-4ebf-8497-e0658e2ad94a",
   "metadata": {},
   "outputs": [],
   "source": []
  },
  {
   "cell_type": "code",
   "execution_count": null,
   "id": "c1132b3b-edf8-4251-95c5-34c13a0e3232",
   "metadata": {},
   "outputs": [],
   "source": []
  },
  {
   "cell_type": "markdown",
   "id": "7553bb97-04bc-48dd-ad0a-0ab96a8bdd93",
   "metadata": {},
   "source": [
    "Q5. Write a python program to filter the numbers in a given list that are divisible by 2 and 3 using the \n",
    "filter function.\n",
    "\n",
    "\n",
    "[2, 3, 6, 9, 27, 60, 90, 120, 55, 46]"
   ]
  },
  {
   "cell_type": "code",
   "execution_count": null,
   "id": "db8a2f0f-5107-43f2-929c-69e635697254",
   "metadata": {},
   "outputs": [],
   "source": []
  },
  {
   "cell_type": "markdown",
   "id": "d43f86cd-13a6-4245-9d5a-e57a8d80bee7",
   "metadata": {},
   "source": [
    "ANS:- Let's first take the give list and write the required code inside the filter function to get expected result.\n",
    "\n",
    "we have find the numbers that are divisible by 2 and 3 that is divsible 6"
   ]
  },
  {
   "cell_type": "code",
   "execution_count": 50,
   "id": "58a35da6-0c51-4e6b-a9f2-43ff58487fe8",
   "metadata": {},
   "outputs": [],
   "source": [
    "l5=[2, 3, 6, 9, 27, 60, 90, 120, 55, 46]"
   ]
  },
  {
   "cell_type": "code",
   "execution_count": 51,
   "id": "f02a9b21-d7b8-4f2e-95f4-62fcd75eaa1d",
   "metadata": {},
   "outputs": [],
   "source": [
    "f1=filter(lambda x:  x%6 ==0,l5)"
   ]
  },
  {
   "cell_type": "code",
   "execution_count": 52,
   "id": "61d02fdf-3eef-4269-9a1e-e8f3b16c7935",
   "metadata": {},
   "outputs": [
    {
     "name": "stdout",
     "output_type": "stream",
     "text": [
      "6\n",
      "60\n",
      "90\n",
      "120\n"
     ]
    }
   ],
   "source": [
    "for i in f1 :\n",
    "    print(i)"
   ]
  },
  {
   "cell_type": "markdown",
   "id": "33292f12-686e-4126-9b5d-7adc12ee973a",
   "metadata": {},
   "source": [
    "or, we can aslo get list of numbers that are divisible by both 2 and 3 that is divisible by 6."
   ]
  },
  {
   "cell_type": "code",
   "execution_count": 54,
   "id": "ad946207-ac44-4b99-a4a2-f6691bc842d6",
   "metadata": {},
   "outputs": [],
   "source": [
    "l8=list(filter(lambda x:  x%6 ==0,l5))"
   ]
  },
  {
   "cell_type": "code",
   "execution_count": 55,
   "id": "77486982-1c16-4461-a4de-eb39d4f62272",
   "metadata": {},
   "outputs": [
    {
     "data": {
      "text/plain": [
       "[6, 60, 90, 120]"
      ]
     },
     "execution_count": 55,
     "metadata": {},
     "output_type": "execute_result"
    }
   ],
   "source": [
    "l8"
   ]
  },
  {
   "cell_type": "code",
   "execution_count": null,
   "id": "814db880-86e6-4fda-9787-2ce94309f152",
   "metadata": {},
   "outputs": [],
   "source": []
  },
  {
   "cell_type": "code",
   "execution_count": null,
   "id": "f4655b60-7b73-4410-a707-4ecdb94351eb",
   "metadata": {},
   "outputs": [],
   "source": []
  },
  {
   "cell_type": "code",
   "execution_count": null,
   "id": "6805db25-9074-4645-b179-2484a77c49e7",
   "metadata": {},
   "outputs": [],
   "source": []
  },
  {
   "cell_type": "markdown",
   "id": "8b067e29-7aeb-4455-86fa-af03ad178ae4",
   "metadata": {},
   "source": [
    "Q6. Write a python program to find palindromes in the given list of strings using lambda and filter \n",
    "function.\n",
    "\n",
    "\n",
    "['python', 'php', 'aba', 'radar', 'level']"
   ]
  },
  {
   "cell_type": "code",
   "execution_count": null,
   "id": "c9ffcb29-5c52-4bd7-a51f-97e25d910835",
   "metadata": {},
   "outputs": [],
   "source": []
  },
  {
   "cell_type": "code",
   "execution_count": 56,
   "id": "c171e156-1a2e-4b81-beed-eeee70e3b02d",
   "metadata": {},
   "outputs": [],
   "source": [
    "strings = ['python', 'php', 'aba', 'radar', 'level']"
   ]
  },
  {
   "cell_type": "code",
   "execution_count": null,
   "id": "206f346e-08fb-44a0-816e-c1a433f7f67e",
   "metadata": {},
   "outputs": [],
   "source": []
  }
 ],
 "metadata": {
  "kernelspec": {
   "display_name": "Python 3 (ipykernel)",
   "language": "python",
   "name": "python3"
  },
  "language_info": {
   "codemirror_mode": {
    "name": "ipython",
    "version": 3
   },
   "file_extension": ".py",
   "mimetype": "text/x-python",
   "name": "python",
   "nbconvert_exporter": "python",
   "pygments_lexer": "ipython3",
   "version": "3.10.6"
  }
 },
 "nbformat": 4,
 "nbformat_minor": 5
}
