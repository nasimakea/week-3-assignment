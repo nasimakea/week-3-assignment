{
 "cells": [
  {
   "cell_type": "markdown",
   "id": "d2b89ce0-1850-4f3b-919d-50f1a09d6288",
   "metadata": {},
   "source": [
    "###\n",
    "Q1. Which keyword is used to create a function? Create a function to return a list of odd numbers in the\n",
    "range of 1 to 25."
   ]
  },
  {
   "cell_type": "markdown",
   "id": "7d70300d-9e6c-443f-b5b6-3326ca7c19a0",
   "metadata": {},
   "source": [
    "### ANS\n",
    "\n",
    "To make function of our own , we use 'def' keywords , so that we can create functions as per our requirements."
   ]
  },
  {
   "cell_type": "markdown",
   "id": "9febdd78-09ef-4350-9631-1b48b124b7db",
   "metadata": {},
   "source": [
    "let's make function which will return list of odd number in between the range of 1 to 25"
   ]
  },
  {
   "cell_type": "code",
   "execution_count": 36,
   "id": "ff464da4-5aca-4870-9542-cf67589d44f9",
   "metadata": {
    "tags": []
   },
   "outputs": [],
   "source": [
    "def only_odd_num():\n",
    "    l1=[]\n",
    "    for i in range(1,26):\n",
    "        if i% 2 !=0 :\n",
    "            l1.append(i)\n",
    "    return l1\n",
    "            \n",
    "\n",
    "            "
   ]
  },
  {
   "cell_type": "markdown",
   "id": "8df929ba-75ad-46b2-91ed-545af1568c71",
   "metadata": {},
   "source": [
    "now"
   ]
  },
  {
   "cell_type": "code",
   "execution_count": 38,
   "id": "7b716dd5-10cf-4da2-bf08-410f7279e236",
   "metadata": {
    "tags": []
   },
   "outputs": [
    {
     "data": {
      "text/plain": [
       "[1, 3, 5, 7, 9, 11, 13, 15, 17, 19, 21, 23, 25]"
      ]
     },
     "execution_count": 38,
     "metadata": {},
     "output_type": "execute_result"
    }
   ],
   "source": [
    "only_odd_num()"
   ]
  },
  {
   "cell_type": "markdown",
   "id": "c1723fa2-1fd6-412d-b407-dc36fd5b84c7",
   "metadata": {
    "tags": []
   },
   "source": [
    "hence we have got only odd numbers out of range between 1 to 25"
   ]
  },
  {
   "cell_type": "code",
   "execution_count": null,
   "id": "338a2894-c4ad-4021-b66a-134db41af87e",
   "metadata": {
    "tags": []
   },
   "outputs": [],
   "source": []
  },
  {
   "cell_type": "code",
   "execution_count": null,
   "id": "413fc38c-df14-49c0-9880-472c490d1bbf",
   "metadata": {},
   "outputs": [],
   "source": []
  },
  {
   "cell_type": "markdown",
   "id": "f871ba79-075e-4a44-9bf6-759483a9cb20",
   "metadata": {},
   "source": [
    "###\n",
    "Q2. Why *args and **kwargs is used in some functions? Create a function each for *args and **kwargs\n",
    "to demonstrate their use."
   ]
  },
  {
   "cell_type": "markdown",
   "id": "7682ff75-2180-44a3-acc8-830a23f17db8",
   "metadata": {},
   "source": [
    "###\n",
    "ANS:- \n",
    "   the *args are used in function when we want to pass numbers of arguments and get outcome then we use *args . these arguments gives outcome in the form of tuple"
   ]
  },
  {
   "cell_type": "code",
   "execution_count": 45,
   "id": "552743f6-c181-420d-b74c-f3c3eecc6637",
   "metadata": {
    "tags": []
   },
   "outputs": [],
   "source": [
    "def multiply(*args,a):\n",
    "    return args*a\n",
    "    \n"
   ]
  },
  {
   "cell_type": "code",
   "execution_count": 46,
   "id": "f0b52bde-41fa-45be-9353-c10c94a14e98",
   "metadata": {
    "tags": []
   },
   "outputs": [
    {
     "data": {
      "text/plain": [
       "(1, 2, 3, 4, 1, 2, 3, 4)"
      ]
     },
     "execution_count": 46,
     "metadata": {},
     "output_type": "execute_result"
    }
   ],
   "source": [
    "multiply(1,2,3,4,a=2)"
   ]
  },
  {
   "cell_type": "markdown",
   "id": "bc94d038-30d6-47b4-a48b-3f0daf605c85",
   "metadata": {},
   "source": [
    "hence we got result in the form of tuple"
   ]
  },
  {
   "cell_type": "markdown",
   "id": "c2bccb79-873c-43f3-8b32-94d7aacef387",
   "metadata": {
    "tags": []
   },
   "source": [
    "now let's talk about kwargs , whenever we want to pass numbers of arguments and get dictionary as outcome as result then we pass **kwargs as arguments."
   ]
  },
  {
   "cell_type": "code",
   "execution_count": 48,
   "id": "0188f6c4-e03d-499a-a2ae-826ac7fa75bf",
   "metadata": {
    "tags": []
   },
   "outputs": [],
   "source": [
    "def dict_out(**kwargs):\n",
    "    return kwargs"
   ]
  },
  {
   "cell_type": "code",
   "execution_count": 49,
   "id": "cce27e24-d074-4cc8-85d7-88e50d0316b4",
   "metadata": {
    "tags": []
   },
   "outputs": [
    {
     "data": {
      "text/plain": [
       "{'a': [1, 2, 3, 4], 'b': ['ram', 'naam', 'shyam']}"
      ]
     },
     "execution_count": 49,
     "metadata": {},
     "output_type": "execute_result"
    }
   ],
   "source": [
    "dict_out(a=[1,2,3,4],b=['ram','naam','shyam'])"
   ]
  },
  {
   "cell_type": "code",
   "execution_count": null,
   "id": "f2bf7564-ff00-4dc6-84d6-86c61fa1ae5d",
   "metadata": {},
   "outputs": [],
   "source": []
  },
  {
   "cell_type": "code",
   "execution_count": null,
   "id": "de194f49-1365-4e8e-a29b-d3658de855be",
   "metadata": {},
   "outputs": [],
   "source": []
  },
  {
   "cell_type": "markdown",
   "id": "e3bea089-74b7-43ea-a08b-c690da82e828",
   "metadata": {},
   "source": [
    "Q3. What is an iterator in python? Name the method used to initialise the iterator object and the method\n",
    "used for iteration. Use these methods to print the first five elements of the given list [2, 4, 6, 8, 10, 12, 14,\n",
    "16, 18, 20]."
   ]
  },
  {
   "cell_type": "code",
   "execution_count": null,
   "id": "00699571-8bf1-4877-89b7-07c4571412f0",
   "metadata": {},
   "outputs": [],
   "source": []
  },
  {
   "cell_type": "markdown",
   "id": "14504334-9b2e-49e0-a5b1-1b76654525ec",
   "metadata": {},
   "source": [
    "ANS:-\n",
    "    An iterator is an inbuilt function which allows us to iterate over the varible or data which are iterables, in this processes, first we convert iterable into iterator by using inbuilt function 'iter'"
   ]
  },
  {
   "cell_type": "markdown",
   "id": "3ca3e583-ba63-4c1d-af9b-14790ed1ac96",
   "metadata": {},
   "source": [
    "we basically iterate by using kewwords such as '__iter__' or '__next__'"
   ]
  },
  {
   "cell_type": "markdown",
   "id": "e64f820f-d516-42da-912f-420e02f226fe",
   "metadata": {
    "tags": []
   },
   "source": [
    "  let's see an example as per the question "
   ]
  },
  {
   "cell_type": "code",
   "execution_count": 54,
   "id": "43261930-7c4d-4ef7-a84d-4618c995c91e",
   "metadata": {
    "tags": []
   },
   "outputs": [],
   "source": [
    "l=[2,4,6,8,10,12,14,16,18,20]"
   ]
  },
  {
   "cell_type": "code",
   "execution_count": 56,
   "id": "82c980de-db99-40d3-84f2-73dca3b47edc",
   "metadata": {
    "tags": []
   },
   "outputs": [],
   "source": [
    "l1=iter(l)"
   ]
  },
  {
   "cell_type": "code",
   "execution_count": 57,
   "id": "2f1b8a62-02de-427e-afcc-4d732c9bb51a",
   "metadata": {
    "tags": []
   },
   "outputs": [
    {
     "data": {
      "text/plain": [
       "2"
      ]
     },
     "execution_count": 57,
     "metadata": {},
     "output_type": "execute_result"
    }
   ],
   "source": [
    "next(l1)"
   ]
  },
  {
   "cell_type": "code",
   "execution_count": 58,
   "id": "96befb65-0ec6-4059-943c-266523bf307c",
   "metadata": {
    "tags": []
   },
   "outputs": [
    {
     "data": {
      "text/plain": [
       "4"
      ]
     },
     "execution_count": 58,
     "metadata": {},
     "output_type": "execute_result"
    }
   ],
   "source": [
    "next(l1)"
   ]
  },
  {
   "cell_type": "code",
   "execution_count": 59,
   "id": "4a320636-bc8b-4460-b1d8-5ef933c01a08",
   "metadata": {
    "tags": []
   },
   "outputs": [
    {
     "data": {
      "text/plain": [
       "6"
      ]
     },
     "execution_count": 59,
     "metadata": {},
     "output_type": "execute_result"
    }
   ],
   "source": [
    "next(l1)"
   ]
  },
  {
   "cell_type": "code",
   "execution_count": 60,
   "id": "34ac7d47-152b-4ceb-86ee-71a8f4b4771d",
   "metadata": {
    "tags": []
   },
   "outputs": [
    {
     "data": {
      "text/plain": [
       "8"
      ]
     },
     "execution_count": 60,
     "metadata": {},
     "output_type": "execute_result"
    }
   ],
   "source": [
    "next(l1)"
   ]
  },
  {
   "cell_type": "code",
   "execution_count": 61,
   "id": "e4387ba9-e6e8-4d00-9506-a520a1d5015d",
   "metadata": {
    "tags": []
   },
   "outputs": [
    {
     "data": {
      "text/plain": [
       "10"
      ]
     },
     "execution_count": 61,
     "metadata": {},
     "output_type": "execute_result"
    }
   ],
   "source": [
    "next(l1)"
   ]
  },
  {
   "cell_type": "markdown",
   "id": "5cd22c2d-6064-424f-861b-ade0ce7f336d",
   "metadata": {},
   "source": []
  },
  {
   "cell_type": "code",
   "execution_count": null,
   "id": "8a50f797-a016-4e70-924b-82a94a582e5e",
   "metadata": {},
   "outputs": [],
   "source": []
  },
  {
   "cell_type": "code",
   "execution_count": null,
   "id": "6dbe2c16-3a5e-46a2-8cdd-9f3b594b399e",
   "metadata": {},
   "outputs": [],
   "source": []
  },
  {
   "cell_type": "markdown",
   "id": "4e023405-856b-4f53-ab1d-42ab89e31bd0",
   "metadata": {},
   "source": [
    "Q4. What is a generator function in python? Why yield keyword is used? Give an example of a generator\n",
    "function."
   ]
  },
  {
   "cell_type": "markdown",
   "id": "5f59655a-ddd6-4c83-8af2-a53de83f49e0",
   "metadata": {},
   "source": [
    "ANS :- a generator function is a kind of functions which gives outcome on iterating over data. it doesn't keep data in the memory but give out at the instance one by one, so it helps in working with millions and billions of data.\n",
    "we use special keyword called 'yield ' in generator function. sometimes we also use loop in this function such as for or while loops.\n",
    "\n",
    "\n",
    "\n",
    "the yield keyword is used because it knows to how extent value would be yield and then it stops yielding, but on calling again , we can reyield"
   ]
  },
  {
   "cell_type": "code",
   "execution_count": 69,
   "id": "df34ccac-4961-4555-b7fe-c0cb9c65a66d",
   "metadata": {
    "tags": []
   },
   "outputs": [],
   "source": [
    "def Play_numbers(n):\n",
    "    for i in range(n) :\n",
    "        yield i*2\n",
    "        i=i*2"
   ]
  },
  {
   "cell_type": "code",
   "execution_count": 70,
   "id": "0ebbf352-e5b2-42c6-ad6a-8f27a94e7fca",
   "metadata": {
    "tags": []
   },
   "outputs": [],
   "source": [
    "p=Play_numbers(10)"
   ]
  },
  {
   "cell_type": "code",
   "execution_count": 71,
   "id": "74457d83-4738-4988-a3a8-5fa00e40e0f6",
   "metadata": {
    "tags": []
   },
   "outputs": [
    {
     "name": "stdout",
     "output_type": "stream",
     "text": [
      "0\n",
      "2\n",
      "4\n",
      "6\n",
      "8\n",
      "10\n",
      "12\n",
      "14\n",
      "16\n",
      "18\n"
     ]
    }
   ],
   "source": [
    "for i in p :\n",
    "    print(i)"
   ]
  },
  {
   "cell_type": "code",
   "execution_count": null,
   "id": "3fa44517-7133-45ae-ad3c-f8f53de11c5b",
   "metadata": {},
   "outputs": [],
   "source": []
  },
  {
   "cell_type": "code",
   "execution_count": null,
   "id": "084021b7-446d-4bcd-accc-3a92de9d5b59",
   "metadata": {},
   "outputs": [],
   "source": []
  },
  {
   "cell_type": "code",
   "execution_count": null,
   "id": "23615861-9052-4f17-b12b-29c102068b73",
   "metadata": {},
   "outputs": [],
   "source": []
  },
  {
   "cell_type": "markdown",
   "id": "952347f6-33ac-4aed-bbb1-c71004b5e7d1",
   "metadata": {},
   "source": [
    "Q5. Create a generator function for prime numbers less than 1000. Use the next() method to print the\n",
    "first 20 prime numbers."
   ]
  },
  {
   "cell_type": "code",
   "execution_count": 72,
   "id": "b5f929f1-4ec3-45b5-90ab-f74b6c4ff960",
   "metadata": {
    "tags": []
   },
   "outputs": [],
   "source": [
    "def is_prime(n):\n",
    "    if n <= 1:\n",
    "        return False\n",
    "    if n <= 3:\n",
    "        return True\n",
    "    if n % 2 == 0 or n % 3 == 0:\n",
    "        return False\n",
    "    i = 5\n",
    "    while i * i <= n:\n",
    "        if n % i == 0 or n % (i + 2) == 0:\n",
    "            return False\n",
    "        i += 6\n",
    "    return True\n",
    "\n",
    "def prime_generator():\n",
    "    num = 2\n",
    "    while num < 1000:\n",
    "        if is_prime(num):\n",
    "            yield num\n",
    "        num += 1\n",
    "\n",
    "\n"
   ]
  },
  {
   "cell_type": "code",
   "execution_count": 73,
   "id": "62db3c64-5114-42bf-a28e-802511e4627c",
   "metadata": {
    "tags": []
   },
   "outputs": [
    {
     "name": "stdout",
     "output_type": "stream",
     "text": [
      "2\n",
      "3\n",
      "5\n",
      "7\n",
      "11\n",
      "13\n",
      "17\n",
      "19\n",
      "23\n",
      "29\n",
      "31\n",
      "37\n",
      "41\n",
      "43\n",
      "47\n",
      "53\n",
      "59\n",
      "61\n",
      "67\n",
      "71\n"
     ]
    }
   ],
   "source": [
    "prime_gen = prime_generator()\n",
    "for _ in range(20):\n",
    "    print(next(prime_gen))\n"
   ]
  },
  {
   "cell_type": "code",
   "execution_count": null,
   "id": "f3210186-bd55-406a-b4c7-ea252eb55f53",
   "metadata": {},
   "outputs": [],
   "source": []
  },
  {
   "cell_type": "markdown",
   "id": "fc76aefb-4a49-4ffc-998c-cae2364f0d19",
   "metadata": {},
   "source": [
    "Q6. Write a python program to print the first 10 Fibonacci numbers using a while loop."
   ]
  },
  {
   "cell_type": "markdown",
   "id": "07f79d1a-2ab1-47e6-86e0-b1f7780fbc49",
   "metadata": {
    "tags": []
   },
   "source": [
    "the ANS:-fibonacci number is the addition of two previous number"
   ]
  },
  {
   "cell_type": "code",
   "execution_count": 77,
   "id": "a17470b5-3a84-4fad-b96a-9e0c7639c5bf",
   "metadata": {
    "tags": []
   },
   "outputs": [],
   "source": [
    "def test_fib(n):\n",
    "    a,b=4,5\n",
    "    for i in range(n):\n",
    "        yield a\n",
    "        a,b=b,a+b"
   ]
  },
  {
   "cell_type": "code",
   "execution_count": 79,
   "id": "2f7d5f1e-ebcd-45fe-9e28-68fccaa3b9f1",
   "metadata": {
    "tags": []
   },
   "outputs": [],
   "source": [
    "t=test_fib(10)"
   ]
  },
  {
   "cell_type": "code",
   "execution_count": 80,
   "id": "2f59535f-f37e-4be9-adf5-cf43791f90f8",
   "metadata": {
    "tags": []
   },
   "outputs": [
    {
     "name": "stdout",
     "output_type": "stream",
     "text": [
      "4\n",
      "5\n",
      "9\n",
      "14\n",
      "23\n",
      "37\n",
      "60\n",
      "97\n",
      "157\n",
      "254\n"
     ]
    }
   ],
   "source": [
    "for i in t :\n",
    "    print(i)"
   ]
  },
  {
   "cell_type": "code",
   "execution_count": null,
   "id": "3a9f0b21-6d26-480a-b0d3-7c81a80f9c2d",
   "metadata": {},
   "outputs": [],
   "source": []
  },
  {
   "cell_type": "code",
   "execution_count": null,
   "id": "1d2120d6-11bc-4ce7-b3aa-12b314af974f",
   "metadata": {},
   "outputs": [],
   "source": []
  },
  {
   "cell_type": "markdown",
   "id": "f568f8d8-8e51-4498-8b57-678f04f78673",
   "metadata": {},
   "source": [
    "Q7. Write a List Comprehension to iterate through the given string: ‘pwskills’.\n",
    "Expected output: ['p', 'w', 's', 'k', 'i', 'l', 'l', 's']"
   ]
  },
  {
   "cell_type": "code",
   "execution_count": 90,
   "id": "bc1570f0-cafb-487a-9e62-07088e09ff80",
   "metadata": {
    "tags": []
   },
   "outputs": [],
   "source": [
    "pw='pwskills'"
   ]
  },
  {
   "cell_type": "code",
   "execution_count": 91,
   "id": "daab4b9a-5544-4e77-a888-4f6ad25a45a9",
   "metadata": {
    "tags": []
   },
   "outputs": [],
   "source": [
    "l1=[]"
   ]
  },
  {
   "cell_type": "code",
   "execution_count": 92,
   "id": "4c9daf04-4324-4418-8ca5-56983b97d222",
   "metadata": {
    "tags": []
   },
   "outputs": [
    {
     "name": "stdout",
     "output_type": "stream",
     "text": [
      "p\n",
      "w\n",
      "s\n",
      "k\n",
      "i\n",
      "l\n",
      "l\n",
      "s\n"
     ]
    }
   ],
   "source": [
    "for i in pw :\n",
    "  \n",
    "    print(i)\n",
    "    l1.append(i)\n",
    "\n"
   ]
  },
  {
   "cell_type": "code",
   "execution_count": 93,
   "id": "011dac0c-7ef1-4ca3-b17a-249339051bb1",
   "metadata": {
    "tags": []
   },
   "outputs": [
    {
     "data": {
      "text/plain": [
       "['p', 'w', 's', 'k', 'i', 'l', 'l', 's']"
      ]
     },
     "execution_count": 93,
     "metadata": {},
     "output_type": "execute_result"
    }
   ],
   "source": [
    "l1"
   ]
  },
  {
   "cell_type": "code",
   "execution_count": null,
   "id": "81fa5fcb-6dee-4d39-8bf5-a8b6e1a1a95e",
   "metadata": {},
   "outputs": [],
   "source": []
  },
  {
   "cell_type": "code",
   "execution_count": null,
   "id": "469c280e-b621-4f3d-881f-7c9bcaf34747",
   "metadata": {},
   "outputs": [],
   "source": []
  },
  {
   "cell_type": "markdown",
   "id": "ea6e9322-34a9-47f7-811e-28c4da5dea92",
   "metadata": {},
   "source": [
    "Q8. Write a python program to check whether a given number is Palindrome or not using a while loop."
   ]
  },
  {
   "cell_type": "markdown",
   "id": "53c4464d-5add-4cd3-bf15-f2c8c7617a65",
   "metadata": {},
   "source": [
    "Q9. Write a code to print odd numbers from 1 to 100 using list comprehension."
   ]
  },
  {
   "cell_type": "code",
   "execution_count": 96,
   "id": "a557d559-08c8-4695-bacb-c769cd4bdf3e",
   "metadata": {
    "tags": []
   },
   "outputs": [],
   "source": [
    "m=range(1,101)"
   ]
  },
  {
   "cell_type": "code",
   "execution_count": 97,
   "id": "8edb7e5d-cc23-4ea8-b3fb-8a010c71354b",
   "metadata": {
    "tags": []
   },
   "outputs": [
    {
     "data": {
      "text/plain": [
       "range(1, 101)"
      ]
     },
     "execution_count": 97,
     "metadata": {},
     "output_type": "execute_result"
    }
   ],
   "source": [
    "m"
   ]
  },
  {
   "cell_type": "code",
   "execution_count": null,
   "id": "3dffd7e4-07fe-4a45-be0a-1f19529a6390",
   "metadata": {},
   "outputs": [],
   "source": [
    "for"
   ]
  },
  {
   "cell_type": "code",
   "execution_count": null,
   "id": "b0fb5d50-8585-4f9b-9fb1-d003dfa047b3",
   "metadata": {},
   "outputs": [],
   "source": []
  },
  {
   "cell_type": "code",
   "execution_count": null,
   "id": "fdbe0839-bf7a-456a-8086-91db8c97f2c8",
   "metadata": {},
   "outputs": [],
   "source": []
  },
  {
   "cell_type": "code",
   "execution_count": null,
   "id": "7d81bd59-7a49-4474-a094-94f3afe17c0f",
   "metadata": {},
   "outputs": [],
   "source": []
  },
  {
   "cell_type": "code",
   "execution_count": null,
   "id": "6a60ad9b-f9af-4142-810d-79668e3e7940",
   "metadata": {},
   "outputs": [],
   "source": []
  },
  {
   "cell_type": "code",
   "execution_count": null,
   "id": "2ab64f85-0d6d-4a9d-ba02-69721ef0e35e",
   "metadata": {},
   "outputs": [],
   "source": []
  },
  {
   "cell_type": "code",
   "execution_count": null,
   "id": "e79b5966-c64d-414e-9652-a336eb4b7ffd",
   "metadata": {},
   "outputs": [],
   "source": []
  },
  {
   "cell_type": "code",
   "execution_count": null,
   "id": "f0427b71-e951-4a14-8d17-67d942a57c74",
   "metadata": {},
   "outputs": [],
   "source": []
  },
  {
   "cell_type": "code",
   "execution_count": null,
   "id": "5ef82f0b-3b11-4d2e-9e2c-89b60599b56b",
   "metadata": {},
   "outputs": [],
   "source": []
  },
  {
   "cell_type": "code",
   "execution_count": null,
   "id": "e0eef0de-053d-481a-bb5d-77aa7d304d25",
   "metadata": {},
   "outputs": [],
   "source": []
  },
  {
   "cell_type": "code",
   "execution_count": null,
   "id": "ecf17099-55d9-4c2b-ab29-57d561c71f3c",
   "metadata": {},
   "outputs": [],
   "source": []
  },
  {
   "cell_type": "code",
   "execution_count": null,
   "id": "282bd862-e8cb-4bb2-afcf-11c31f3e7142",
   "metadata": {},
   "outputs": [],
   "source": []
  }
 ],
 "metadata": {
  "kernelspec": {
   "display_name": "Python 3 (ipykernel)",
   "language": "python",
   "name": "python3"
  },
  "language_info": {
   "codemirror_mode": {
    "name": "ipython",
    "version": 3
   },
   "file_extension": ".py",
   "mimetype": "text/x-python",
   "name": "python",
   "nbconvert_exporter": "python",
   "pygments_lexer": "ipython3",
   "version": "3.11.3"
  }
 },
 "nbformat": 4,
 "nbformat_minor": 5
}
